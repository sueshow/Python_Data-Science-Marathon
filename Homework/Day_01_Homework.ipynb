{
 "cells": [
  {
   "cell_type": "markdown",
   "metadata": {
    "id": "5aWZnhxBD2p2"
   },
   "source": [
    "* 作業目標：\n",
    "  * 在array中，可以靈活應用索引幫助資料擷取"
   ]
  },
  {
   "cell_type": "markdown",
   "metadata": {},
   "source": [
    "* 作業重點：\n",
    "  * 陣列的索引、切片、以及屬性，皆需要注意使用方式\n",
    "  * 陣列之中索引式由0開始請同學注意"
   ]
  },
  {
   "cell_type": "markdown",
   "metadata": {
    "id": "Ec7jpEEnD4rj"
   },
   "source": [
    "* 題目：<br>\n",
    "  * 【基礎題01】\n",
    "     1. 【簡答題】請問下列兩種將 Array 轉換成 List 的方式有何不同？<br>\n",
    "     2. 請試著在程式中印出以下三個 NdArray 的屬性？<br>\n",
    "        （屬性：ndim、shape、size、dtype、itemsize、length、type）<br>\n",
    "     3. 如何利用 list(...) 實現 a.tolist() 的效果？試著用程式實作。<br>\n",
    "  * 【進階題01】\n",
    "     1. 生成一個等差數列，首數為0，尾數為20，公差為1的數列。<br>\n",
    "     2. 呈上題，將以上數列取出偶數。<br>\n",
    "     3. 呈1題，將數列取出3的倍數。<br>"
   ]
  },
  {
   "cell_type": "code",
   "execution_count": 1,
   "metadata": {
    "id": "NfVTcwauD3rg"
   },
   "outputs": [
    {
     "name": "stdout",
     "output_type": "stream",
     "text": [
      "NumPy 版本:  1.16.5\n"
     ]
    }
   ],
   "source": [
    "import numpy as np\n",
    "print( 'NumPy 版本: ', np.__version__ )"
   ]
  },
  {
   "cell_type": "markdown",
   "metadata": {},
   "source": [
    "* 【基礎題01】"
   ]
  },
  {
   "cell_type": "code",
   "execution_count": 6,
   "metadata": {
    "id": "6_6Emob-FHn3"
   },
   "outputs": [
    {
     "name": "stdout",
     "output_type": "stream",
     "text": [
      "list(a):  [2, 6, 1, 3, 4, 5]\n",
      "a.tolist():  [2, 6, 1, 3, 4, 5]\n",
      "list(b):  [array([2, 5]), array([5, 7]), array([5, 3])]\n",
      "b.tolist():  [[2, 5], [5, 7], [5, 3]]\n"
     ]
    },
    {
     "data": {
      "text/plain": [
       "'\\nlist(a) 只會把第一層的元素轉換成 List，多層的話只有第一層會轉；tolist() 才能達成多層的型態轉換。\\n'"
      ]
     },
     "execution_count": 6,
     "metadata": {},
     "output_type": "execute_result"
    }
   ],
   "source": [
    "#1.【簡答題】請問下列兩種將 Array 轉換成 List 的方式有何不同？\n",
    "#print('list(a): ', list(a))\n",
    "#print('tolist(): ', a.tolist())\n",
    "a = np.random.randint(10, size=6) \n",
    "\n",
    "print('list(a): ', list(a))\n",
    "print('a.tolist(): ', a.tolist())\n",
    "\n",
    "b = np.random.randint(10, size=6).reshape(3,2)\n",
    "\n",
    "print('list(b): ', list(b))\n",
    "print('b.tolist(): ', b.tolist())\n",
    "\n",
    "'''\n",
    "list(a) 只會把第一層的元素轉換成 List，多層的話只有第一層會轉；tolist() 才能達成多層的型態轉換。\n",
    "'''"
   ]
  },
  {
   "cell_type": "code",
   "execution_count": 8,
   "metadata": {},
   "outputs": [
    {
     "name": "stdout",
     "output_type": "stream",
     "text": [
      "[8 7 8 3 0 8]\n",
      "====================\n",
      "1\n",
      "(6,)\n",
      "6\n",
      "int32\n",
      "4\n",
      "6\n",
      "<class 'numpy.ndarray'>\n"
     ]
    }
   ],
   "source": [
    "#2.請試著在程式中印出以下三個 NdArray 的屬性？\n",
    "a = np.random.randint(10, size=6) \n",
    "\n",
    "print(a)\n",
    "print('='*20)\n",
    "print(a.ndim)\n",
    "print(a.shape)\n",
    "print(a.size)\n",
    "print(a.dtype)\n",
    "print(a.itemsize)\n",
    "print(len(a))\n",
    "print(type(a))"
   ]
  },
  {
   "cell_type": "code",
   "execution_count": 9,
   "metadata": {},
   "outputs": [
    {
     "name": "stdout",
     "output_type": "stream",
     "text": [
      "[[9 3 9 6]\n",
      " [7 5 3 2]\n",
      " [7 7 5 1]]\n",
      "====================\n",
      "2\n",
      "(3, 4)\n",
      "12\n",
      "int32\n",
      "4\n",
      "3\n",
      "<class 'numpy.ndarray'>\n"
     ]
    }
   ],
   "source": [
    "b = np.random.randint(10, size=(3,4)) \n",
    "\n",
    "print(b)\n",
    "print('='*20)\n",
    "print(b.ndim)\n",
    "print(b.shape)\n",
    "print(b.size)\n",
    "print(b.dtype)\n",
    "print(b.itemsize)\n",
    "print(len(b))\n",
    "print(type(b))"
   ]
  },
  {
   "cell_type": "code",
   "execution_count": 10,
   "metadata": {},
   "outputs": [
    {
     "name": "stdout",
     "output_type": "stream",
     "text": [
      "[[[4 4]\n",
      "  [5 2]\n",
      "  [6 4]]\n",
      "\n",
      " [[2 1]\n",
      "  [4 9]\n",
      "  [6 0]]]\n",
      "====================\n",
      "3\n",
      "(2, 3, 2)\n",
      "12\n",
      "int32\n",
      "4\n",
      "2\n",
      "<class 'numpy.ndarray'>\n"
     ]
    }
   ],
   "source": [
    "c = np.random.randint(10, size=(2,3,2)) \n",
    "\n",
    "print(c)\n",
    "print('='*20)\n",
    "print(c.ndim)\n",
    "print(c.shape)\n",
    "print(c.size)\n",
    "print(c.dtype)\n",
    "print(c.itemsize)\n",
    "print(len(c))\n",
    "print(type(c))"
   ]
  },
  {
   "cell_type": "code",
   "execution_count": 11,
   "metadata": {},
   "outputs": [
    {
     "name": "stdout",
     "output_type": "stream",
     "text": [
      "[3, 6, 6, 5, 0, 8]\n",
      "[3, 6, 6, 5, 0, 8]\n"
     ]
    }
   ],
   "source": [
    "#3.如何利用 list(...) 實現 a.tolist() 的效果？\n",
    "a = np.random.randint(10, size=6) \n",
    "\n",
    "print(a.tolist())\n",
    "print(list(a))"
   ]
  },
  {
   "cell_type": "code",
   "execution_count": 12,
   "metadata": {},
   "outputs": [
    {
     "name": "stdout",
     "output_type": "stream",
     "text": [
      "[[9, 5, 2, 7], [5, 5, 2, 4], [4, 6, 2, 8]]\n",
      "[array([9, 5, 2, 7]), array([5, 5, 2, 4]), array([4, 6, 2, 8])]\n"
     ]
    }
   ],
   "source": [
    "b = np.random.randint(10, size=(3,4)) \n",
    "\n",
    "print(b.tolist())\n",
    "print(list(b))"
   ]
  },
  {
   "cell_type": "markdown",
   "metadata": {},
   "source": [
    "* 【進階題01】"
   ]
  },
  {
   "cell_type": "code",
   "execution_count": 2,
   "metadata": {
    "id": "QrOaxfmeEpvo"
   },
   "outputs": [
    {
     "name": "stdout",
     "output_type": "stream",
     "text": [
      "等差數列:  [ 0  1  2  3  4  5  6  7  8  9 10 11 12 13 14 15 16 17 18 19 20]\n"
     ]
    }
   ],
   "source": [
    "#1.生成一個等差數列，首數為0，尾數為20，公差為1的數列。\n",
    "Seq = np.arange(0, 21, 1)\n",
    "print( '等差數列: ', Seq)"
   ]
  },
  {
   "cell_type": "code",
   "execution_count": 3,
   "metadata": {
    "id": "5FFeFSvoEtRP"
   },
   "outputs": [
    {
     "data": {
      "text/plain": [
       "array([ 0,  2,  4,  6,  8, 10, 12, 14, 16, 18, 20])"
      ]
     },
     "execution_count": 3,
     "metadata": {},
     "output_type": "execute_result"
    }
   ],
   "source": [
    "#2.呈上題，將以上數列取出偶數。\n",
    "even_array = Seq[::2]\n",
    "#even_array = [ i for i in Seq if i%2==0 ]\n",
    "even_array"
   ]
  },
  {
   "cell_type": "code",
   "execution_count": 4,
   "metadata": {
    "id": "7-HcNGFsFD-_"
   },
   "outputs": [
    {
     "data": {
      "text/plain": [
       "array([ 3,  6,  9, 12, 15, 18])"
      ]
     },
     "execution_count": 4,
     "metadata": {},
     "output_type": "execute_result"
    }
   ],
   "source": [
    "#3.呈1題，將數列取出3的倍數。\n",
    "three_array = Seq[3::3]\n",
    "#three_array = [ i for i in Seq if i%3==0 ]\n",
    "three_array"
   ]
  },
  {
   "cell_type": "code",
   "execution_count": null,
   "metadata": {},
   "outputs": [],
   "source": []
  }
 ],
 "metadata": {
  "colab": {
   "collapsed_sections": [],
   "name": "作業題目.ipynb",
   "provenance": []
  },
  "kernelspec": {
   "display_name": "Python 3",
   "language": "python",
   "name": "python3"
  },
  "language_info": {
   "codemirror_mode": {
    "name": "ipython",
    "version": 3
   },
   "file_extension": ".py",
   "mimetype": "text/x-python",
   "name": "python",
   "nbconvert_exporter": "python",
   "pygments_lexer": "ipython3",
   "version": "3.8.5"
  }
 },
 "nbformat": 4,
 "nbformat_minor": 1
}
